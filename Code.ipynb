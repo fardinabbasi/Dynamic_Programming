{
  "nbformat": 4,
  "nbformat_minor": 0,
  "metadata": {
    "colab": {
      "provenance": []
    },
    "kernelspec": {
      "name": "python3",
      "display_name": "Python 3"
    },
    "language_info": {
      "name": "python"
    }
  },
  "cells": [
    {
      "cell_type": "code",
      "source": [
        "import numpy as np"
      ],
      "metadata": {
        "id": "D6FOWG7lAW4f"
      },
      "execution_count": 5,
      "outputs": []
    },
    {
      "cell_type": "code",
      "source": [
        "class BoxOptimizer:\n",
        "    def __init__(self, weights, prices, max_weight, max_boxes):\n",
        "        self.weights = weights\n",
        "        self.prices = prices\n",
        "        self.max_weight = max_weight\n",
        "        self.max_boxes = max_boxes\n",
        "        self.n = len(weights)\n",
        "        self.scale_factor = 10 ** max(len(str(weight).split('.')[-1]) if '.' in str(weight) else 0 for weight in weights)\n",
        "        self.scaled_max_weight = int(max_weight * self.scale_factor)\n",
        "        self.dp = [[[0 for _ in range(max_boxes + 1)] for _ in range(self.scaled_max_weight + 1)] for _ in range(self.n + 1)]\n",
        "\n",
        "    def solve(self):\n",
        "        for i in range(1, self.n + 1):\n",
        "            for j in range(self.scaled_max_weight + 1):\n",
        "                for k in range(1, self.max_boxes + 1):\n",
        "                    w = int(self.weights[i - 1] * self.scale_factor)\n",
        "                    if j >= w:\n",
        "                        self.dp[i][j][k] = max(self.dp[i - 1][j][k], self.dp[i - 1][j - w][k - 1] + self.prices[i - 1])\n",
        "                    else:\n",
        "                        self.dp[i][j][k] = self.dp[i - 1][j][k]\n",
        "\n",
        "        max_profit = self.dp[self.n][self.scaled_max_weight][self.max_boxes]\n",
        "\n",
        "        result_weight = self.scaled_max_weight\n",
        "        result_boxes = self.max_boxes\n",
        "        selected_boxes = []\n",
        "\n",
        "        for i in range(self.n, 0, -1):\n",
        "            if self.dp[i][result_weight][result_boxes] != self.dp[i - 1][result_weight][result_boxes]:\n",
        "                selected_boxes.append(i)\n",
        "                result_weight -= int(self.weights[i - 1] * self.scale_factor)\n",
        "                result_boxes -= 1\n",
        "\n",
        "        selected_boxes.reverse()\n",
        "\n",
        "        return max_profit, selected_boxes"
      ],
      "metadata": {
        "id": "vy8F587O7vsl"
      },
      "execution_count": 9,
      "outputs": []
    },
    {
      "cell_type": "code",
      "source": [
        "weights = [2, 5, 4, 3, 6, 1, 4.5]\n",
        "prices = [200, 700, 600, 400, 900, 150, 500]\n",
        "max_weight = 15\n",
        "max_boxes = 5\n",
        "\n",
        "optimizer = BoxOptimizer(weights, prices, max_weight, max_boxes)\n",
        "max_profit, selected_boxes = optimizer.solve()\n",
        "\n",
        "print(f\"Maximum Profit: {max_profit}\")\n",
        "print(f\"Selected Boxes: {selected_boxes}\")"
      ],
      "metadata": {
        "colab": {
          "base_uri": "https://localhost:8080/"
        },
        "id": "v-nI3bC_8uVP",
        "outputId": "f3351c2a-ffeb-4867-8dbb-db66ade8dfff"
      },
      "execution_count": 10,
      "outputs": [
        {
          "output_type": "stream",
          "name": "stdout",
          "text": [
            "Maximum Profit: 2200\n",
            "Selected Boxes: [2, 3, 5]\n"
          ]
        }
      ]
    }
  ]
}